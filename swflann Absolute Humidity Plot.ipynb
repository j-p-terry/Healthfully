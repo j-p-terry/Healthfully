{
 "cells": [
  {
   "cell_type": "code",
   "execution_count": 33,
   "metadata": {},
   "outputs": [],
   "source": [
    "import pandas as pd\n",
    "import numpy as np\n",
    "import matplotlib.pyplot as plt\n",
    "%matplotlib inline"
   ]
  },
  {
   "cell_type": "code",
   "execution_count": 3,
   "metadata": {},
   "outputs": [],
   "source": [
    "df = pd.read_csv('C:/Users/sflan/Dropbox (Brown)/Healthfully/Clean Data/weather_flu_google_9.csv')"
   ]
  },
  {
   "cell_type": "code",
   "execution_count": 8,
   "metadata": {},
   "outputs": [],
   "source": [
    "df['cases'] = df['total.specimens'] * df['percent.positive'] / 10000\n",
    "df = df[['cases', 'absolute_humidity', 'week', 'year']]"
   ]
  },
  {
   "cell_type": "code",
   "execution_count": 14,
   "metadata": {},
   "outputs": [
    {
     "data": {
      "text/html": [
       "<div>\n",
       "<style scoped>\n",
       "    .dataframe tbody tr th:only-of-type {\n",
       "        vertical-align: middle;\n",
       "    }\n",
       "\n",
       "    .dataframe tbody tr th {\n",
       "        vertical-align: top;\n",
       "    }\n",
       "\n",
       "    .dataframe thead th {\n",
       "        text-align: right;\n",
       "    }\n",
       "</style>\n",
       "<table border=\"1\" class=\"dataframe\">\n",
       "  <thead>\n",
       "    <tr style=\"text-align: right;\">\n",
       "      <th></th>\n",
       "      <th>cases</th>\n",
       "      <th>absolute_humidity</th>\n",
       "      <th>week</th>\n",
       "      <th>year</th>\n",
       "    </tr>\n",
       "  </thead>\n",
       "  <tbody>\n",
       "    <tr>\n",
       "      <th>count</th>\n",
       "      <td>418.000000</td>\n",
       "      <td>418.000000</td>\n",
       "      <td>418.000000</td>\n",
       "      <td>418.000000</td>\n",
       "    </tr>\n",
       "    <tr>\n",
       "      <th>mean</th>\n",
       "      <td>0.376643</td>\n",
       "      <td>7.902509</td>\n",
       "      <td>26.595694</td>\n",
       "      <td>2014.258373</td>\n",
       "    </tr>\n",
       "    <tr>\n",
       "      <th>std</th>\n",
       "      <td>0.718115</td>\n",
       "      <td>4.890266</td>\n",
       "      <td>15.060603</td>\n",
       "      <td>2.336293</td>\n",
       "    </tr>\n",
       "    <tr>\n",
       "      <th>min</th>\n",
       "      <td>0.000000</td>\n",
       "      <td>0.200166</td>\n",
       "      <td>1.000000</td>\n",
       "      <td>2010.000000</td>\n",
       "    </tr>\n",
       "    <tr>\n",
       "      <th>25%</th>\n",
       "      <td>0.000000</td>\n",
       "      <td>3.527881</td>\n",
       "      <td>14.000000</td>\n",
       "      <td>2012.000000</td>\n",
       "    </tr>\n",
       "    <tr>\n",
       "      <th>50%</th>\n",
       "      <td>0.030100</td>\n",
       "      <td>6.737366</td>\n",
       "      <td>27.000000</td>\n",
       "      <td>2014.000000</td>\n",
       "    </tr>\n",
       "    <tr>\n",
       "      <th>75%</th>\n",
       "      <td>0.477471</td>\n",
       "      <td>12.020473</td>\n",
       "      <td>40.000000</td>\n",
       "      <td>2016.000000</td>\n",
       "    </tr>\n",
       "    <tr>\n",
       "      <th>max</th>\n",
       "      <td>5.349486</td>\n",
       "      <td>19.955150</td>\n",
       "      <td>53.000000</td>\n",
       "      <td>2018.000000</td>\n",
       "    </tr>\n",
       "  </tbody>\n",
       "</table>\n",
       "</div>"
      ],
      "text/plain": [
       "            cases  absolute_humidity        week         year\n",
       "count  418.000000         418.000000  418.000000   418.000000\n",
       "mean     0.376643           7.902509   26.595694  2014.258373\n",
       "std      0.718115           4.890266   15.060603     2.336293\n",
       "min      0.000000           0.200166    1.000000  2010.000000\n",
       "25%      0.000000           3.527881   14.000000  2012.000000\n",
       "50%      0.030100           6.737366   27.000000  2014.000000\n",
       "75%      0.477471          12.020473   40.000000  2016.000000\n",
       "max      5.349486          19.955150   53.000000  2018.000000"
      ]
     },
     "execution_count": 14,
     "metadata": {},
     "output_type": "execute_result"
    }
   ],
   "source": [
    "summary_stats = df.describe()\n",
    "summary_stats"
   ]
  },
  {
   "cell_type": "code",
   "execution_count": 42,
   "metadata": {},
   "outputs": [
    {
     "name": "stderr",
     "output_type": "stream",
     "text": [
      "C:\\Users\\sflan\\Anaconda3\\lib\\site-packages\\ipykernel_launcher.py:2: SettingWithCopyWarning: \n",
      "A value is trying to be set on a copy of a slice from a DataFrame.\n",
      "Try using .loc[row_indexer,col_indexer] = value instead\n",
      "\n",
      "See the caveats in the documentation: http://pandas.pydata.org/pandas-docs/stable/indexing.html#indexing-view-versus-copy\n",
      "  \n",
      "C:\\Users\\sflan\\Anaconda3\\lib\\site-packages\\ipykernel_launcher.py:4: SettingWithCopyWarning: \n",
      "A value is trying to be set on a copy of a slice from a DataFrame.\n",
      "Try using .loc[row_indexer,col_indexer] = value instead\n",
      "\n",
      "See the caveats in the documentation: http://pandas.pydata.org/pandas-docs/stable/indexing.html#indexing-view-versus-copy\n",
      "  after removing the cwd from sys.path.\n"
     ]
    }
   ],
   "source": [
    "# df['zscore_cases'] = (df['cases'] - summary_stats.cases.mean())/summary_stats.cases.std()\n",
    "df['zscore_cases'] = (df['cases'] - 0.376643)/0.718115\n",
    "# summary_stats.cases.mean()\n",
    "df['zscore_humidity'] = -1*(df['absolute_humidity'] - 7.902509)/4.890266"
   ]
  },
  {
   "cell_type": "code",
   "execution_count": 43,
   "metadata": {},
   "outputs": [
    {
     "data": {
      "text/html": [
       "<div>\n",
       "<style scoped>\n",
       "    .dataframe tbody tr th:only-of-type {\n",
       "        vertical-align: middle;\n",
       "    }\n",
       "\n",
       "    .dataframe tbody tr th {\n",
       "        vertical-align: top;\n",
       "    }\n",
       "\n",
       "    .dataframe thead th {\n",
       "        text-align: right;\n",
       "    }\n",
       "</style>\n",
       "<table border=\"1\" class=\"dataframe\">\n",
       "  <thead>\n",
       "    <tr style=\"text-align: right;\">\n",
       "      <th></th>\n",
       "      <th>cases</th>\n",
       "      <th>absolute_humidity</th>\n",
       "      <th>week</th>\n",
       "      <th>year</th>\n",
       "      <th>zscore_cases</th>\n",
       "      <th>zscore_humidity</th>\n",
       "    </tr>\n",
       "  </thead>\n",
       "  <tbody>\n",
       "    <tr>\n",
       "      <th>0</th>\n",
       "      <td>0.000000</td>\n",
       "      <td>9.417646</td>\n",
       "      <td>40</td>\n",
       "      <td>2010</td>\n",
       "      <td>-0.524488</td>\n",
       "      <td>-0.309827</td>\n",
       "    </tr>\n",
       "    <tr>\n",
       "      <th>1</th>\n",
       "      <td>0.009975</td>\n",
       "      <td>7.021040</td>\n",
       "      <td>41</td>\n",
       "      <td>2010</td>\n",
       "      <td>-0.510598</td>\n",
       "      <td>0.180250</td>\n",
       "    </tr>\n",
       "    <tr>\n",
       "      <th>2</th>\n",
       "      <td>0.010011</td>\n",
       "      <td>5.831757</td>\n",
       "      <td>42</td>\n",
       "      <td>2010</td>\n",
       "      <td>-0.510548</td>\n",
       "      <td>0.423444</td>\n",
       "    </tr>\n",
       "    <tr>\n",
       "      <th>3</th>\n",
       "      <td>0.020020</td>\n",
       "      <td>8.617508</td>\n",
       "      <td>43</td>\n",
       "      <td>2010</td>\n",
       "      <td>-0.496610</td>\n",
       "      <td>-0.146209</td>\n",
       "    </tr>\n",
       "    <tr>\n",
       "      <th>4</th>\n",
       "      <td>0.000000</td>\n",
       "      <td>5.231198</td>\n",
       "      <td>44</td>\n",
       "      <td>2010</td>\n",
       "      <td>-0.524488</td>\n",
       "      <td>0.546251</td>\n",
       "    </tr>\n",
       "  </tbody>\n",
       "</table>\n",
       "</div>"
      ],
      "text/plain": [
       "      cases  absolute_humidity  week  year  zscore_cases  zscore_humidity\n",
       "0  0.000000           9.417646    40  2010     -0.524488        -0.309827\n",
       "1  0.009975           7.021040    41  2010     -0.510598         0.180250\n",
       "2  0.010011           5.831757    42  2010     -0.510548         0.423444\n",
       "3  0.020020           8.617508    43  2010     -0.496610        -0.146209\n",
       "4  0.000000           5.231198    44  2010     -0.524488         0.546251"
      ]
     },
     "execution_count": 43,
     "metadata": {},
     "output_type": "execute_result"
    }
   ],
   "source": [
    "df.head()"
   ]
  },
  {
   "cell_type": "code",
   "execution_count": 45,
   "metadata": {},
   "outputs": [
    {
     "data": {
      "image/png": "[encoded data removed]",
      "text/plain": [
       "<Figure size 432x288 with 1 Axes>"
      ]
     },
     "metadata": {},
     "output_type": "display_data"
    }
   ],
   "source": [
    "plt.plot(df['zscore_cases'])\n",
    "plt.plot(df['zscore_humidity'])\n",
    "plt.title('Z-Score Weekly Flu Cases vs. Absolute Humidity')\n",
    "plt.xlabel('Year')\n",
    "plt.ylabel('Z-Score')\n",
    "tick_locs = [52*i for i in range(9)]\n",
    "x_ticks = [str(2011 + i) for i in range(9)]\n",
    "plt.xticks(tick_locs, x_ticks)\n",
    "plt.legend(['Weekly Flu Cases', 'Negative Absolute Humidity'])\n",
    "plt.savefig('absolute_humidity.png')"
   ]
  },
  {
   "cell_type": "code",
   "execution_count": null,
   "metadata": {},
   "outputs": [],
   "source": []
  }
 ],
 "metadata": {
  "kernelspec": {
   "display_name": "Python 3",
   "language": "python",
   "name": "python3"
  },
  "language_info": {
   "codemirror_mode": {
    "name": "ipython",
    "version": 3
   },
   "file_extension": ".py",
   "mimetype": "text/x-python",
   "name": "python",
   "nbconvert_exporter": "python",
   "pygments_lexer": "ipython3",
   "version": "3.6.5"
  }
 },
 "nbformat": 4,
 "nbformat_minor": 2
}
